{
 "cells": [
  {
   "cell_type": "markdown",
   "metadata": {},
   "source": [
    "# **Finding Lane Lines on the Road** \n",
    "***\n",
    "In this project, you will use the tools you learned about in the lesson to identify lane lines on the road.  You can develop your pipeline on a series of individual images, and later apply the result to a video stream (really just a series of images). Check out the video clip \"raw-lines-example.mp4\" (also contained in this repository) to see what the output should look like after using the helper functions below. \n",
    "\n",
    "Once you have a result that looks roughly like \"raw-lines-example.mp4\", you'll need to get creative and try to average and/or extrapolate the line segments you've detected to map out the full extent of the lane lines.  You can see an example of the result you're going for in the video \"P1_example.mp4\".  Ultimately, you would like to draw just one line for the left side of the lane, and one for the right.\n",
    "\n",
    "---\n",
    "Let's have a look at our first image called 'test_images/solidWhiteRight.jpg'.  Run the 2 cells below (hit Shift-Enter or the \"play\" button above) to display the image.\n",
    "\n",
    "**Note** If, at any point, you encounter frozen display windows or other confounding issues, you can always start again with a clean slate by going to the \"Kernel\" menu above and selecting \"Restart & Clear Output\".\n",
    "\n",
    "---"
   ]
  },
  {
   "cell_type": "markdown",
   "metadata": {},
   "source": [
    "**The tools you have are color selection, region of interest selection, grayscaling, Gaussian smoothing, Canny Edge Detection and Hough Tranform line detection.  You  are also free to explore and try other techniques that were not presented in the lesson.  Your goal is piece together a pipeline to detect the line segments in the image, then average/extrapolate them and draw them onto the image for display (as below).  Once you have a working pipeline, try it out on the video stream below.**\n",
    "\n",
    "---\n",
    "\n",
    "<figure>\n",
    " <img src=\"line-segments-example.jpg\" width=\"380\" alt=\"Combined Image\" />\n",
    " <figcaption>\n",
    " <p></p> \n",
    " <p style=\"text-align: center;\"> Your output should look something like this (above) after detecting line segments using the helper functions below </p> \n",
    " </figcaption>\n",
    "</figure>\n",
    " <p></p> \n",
    "<figure>\n",
    " <img src=\"laneLines_thirdPass.jpg\" width=\"380\" alt=\"Combined Image\" />\n",
    " <figcaption>\n",
    " <p></p> \n",
    " <p style=\"text-align: center;\"> Your goal is to connect/average/extrapolate line segments to get output like this</p> \n",
    " </figcaption>\n",
    "</figure>"
   ]
  },
  {
   "cell_type": "code",
   "execution_count": 22,
   "metadata": {
    "collapsed": false
   },
   "outputs": [],
   "source": [
    "#importing some useful packages\n",
    "import matplotlib.pyplot as plt\n",
    "import matplotlib.image as mpimg\n",
    "import numpy as np\n",
    "import cv2"
   ]
  },
  {
   "cell_type": "code",
   "execution_count": 21,
   "metadata": {
    "collapsed": false
   },
   "outputs": [
    {
     "name": "stdout",
     "output_type": "stream",
     "text": [
      "This image is: <class 'numpy.ndarray'> with dimesions: (540, 960, 3)\n"
     ]
    },
    {
     "data": {
      "text/plain": [
       "<matplotlib.image.AxesImage at 0x2600a997160>"
      ]
     },
     "execution_count": 21,
     "metadata": {},
     "output_type": "execute_result"
    }
   ],
   "source": [
    "#reading in an image\n",
    "image = mpimg.imread('test_images/solidWhiteRight.jpg')\n",
    "#printing out some stats and plotting\n",
    "print('This image is:', type(image), 'with dimesions:', image.shape)\n",
    "plt.imshow(image)  # if you wanted to show a single color\n",
    "                   # channel image called 'gray', for example, call as plt.imshow(gray, cmap='gray')"
   ]
  },
  {
   "cell_type": "markdown",
   "metadata": {},
   "source": [
    "**Some OpenCV functions (beyond those introduced in the lesson) that might be useful for this project are:**\n",
    "\n",
    "`cv2.inRange()` for color selection  \n",
    "`cv2.fillPoly()` for regions selection  \n",
    "`cv2.line()` to draw lines on an image given endpoints  \n",
    "`cv2.addWeighted()` to coadd / overlay two images\n",
    "`cv2.cvtColor()` to grayscale or change color\n",
    "`cv2.imwrite()` to output images to file  \n",
    "`cv2.bitwise_and()` to apply a mask to an image\n",
    "\n",
    "**Check out the OpenCV documentation to learn about these and discover even more awesome functionality!**"
   ]
  },
  {
   "cell_type": "markdown",
   "metadata": {},
   "source": [
    "Below are some helper functions to help get you started. They should look familiar from the lesson!\n",
    "\n",
    "I've added some functionality to the draw_lines function. After I get the points using hough transform, I use them to compute the intercept and slope of the various lines. I used RANSAC which is implemented in the section after this to know which set of slopes and intercepts have the most votes i.e. inlier detection. I use this to then figure out the slope and intercept of the line to be overlayed on the image. If the number of points found by the hough transform is less than four i.e. a bad frame, then the draw_lines function automatically selects the previous slope and intercepts of the previous frame to overlay onto the image."
   ]
  },
  {
   "cell_type": "code",
   "execution_count": 23,
   "metadata": {
    "collapsed": false
   },
   "outputs": [],
   "source": [
    "import random\n",
    "import math\n",
    "import sys\n",
    "\n",
    "#windowSize = 10\n",
    "prev_m1 = 0\n",
    "prev_c1 = 0\n",
    "prev_m2 = 0\n",
    "prev_c2 = 0\n",
    "\n",
    "def grayscale(img):\n",
    "    \"\"\"Applies the Grayscale transform\n",
    "    This will return an image with only one color channel\n",
    "    but NOTE: to see the returned image as grayscale\n",
    "    (assuming your grayscaled image is called 'gray')\n",
    "    you should call plt.imshow(gray, cmap='gray')\"\"\"\n",
    "    return cv2.cvtColor(img, cv2.COLOR_RGB2GRAY)\n",
    "    # Or use BGR2GRAY if you read an image with cv2.imread()\n",
    "    # return cv2.cvtColor(img, cv2.COLOR_BGR2GRAY)\n",
    "    \n",
    "def canny(img, low_threshold, high_threshold):\n",
    "    \"\"\"Applies the Canny transform\"\"\"\n",
    "    return cv2.Canny(img, low_threshold, high_threshold)\n",
    "\n",
    "def gaussian_blur(img, kernel_size):\n",
    "    \"\"\"Applies a Gaussian Noise kernel\"\"\"\n",
    "    return cv2.GaussianBlur(img, (kernel_size, kernel_size), 0)\n",
    "\n",
    "def region_of_interest(img, vertices):\n",
    "    \"\"\"\n",
    "    Applies an image mask.\n",
    "    \n",
    "    Only keeps the region of the image defined by the polygon\n",
    "    formed from `vertices`. The rest of the image is set to black.\n",
    "    \"\"\"\n",
    "    #defining a blank mask to start with\n",
    "    mask = np.zeros_like(img)   \n",
    "    \n",
    "    #defining a 3 channel or 1 channel color to fill the mask with depending on the input image\n",
    "    if len(img.shape) > 2:\n",
    "        channel_count = img.shape[2]  # i.e. 3 or 4 depending on your image\n",
    "        ignore_mask_color = (255,) * channel_count\n",
    "    else:\n",
    "        ignore_mask_color = 255\n",
    "    \n",
    "    #filling pixels inside the polygon defined by \"vertices\" with the fill color    \n",
    "    mask = cv2.fillPoly(mask, [vertices], ignore_mask_color)\n",
    "    \n",
    "    #returning the image only where mask pixels are nonzero\n",
    "    masked_image = cv2.bitwise_and(img, mask)\n",
    "    return masked_image\n",
    "\n",
    "\n",
    "def hough_lines(img, rho, theta, threshold, min_line_len, max_line_gap):\n",
    "    \"\"\"\n",
    "    `img` should be the output of a Canny transform.\n",
    "        \n",
    "    Returns an image with hough lines drawn.\n",
    "    \"\"\"\n",
    "    lines = cv2.HoughLinesP(img, rho, theta, threshold, np.array([]), minLineLength=min_line_len, maxLineGap=max_line_gap)\n",
    "    line_img = np.zeros((img.shape[0], img.shape[1], 3), dtype=np.uint8)\n",
    "    draw_lines(line_img, lines)\n",
    "    return line_img\n",
    "\n",
    "# Python 3 has support for cool math symbols.\n",
    "\n",
    "def weighted_img(img, initial_img, α=0.8, β=1., λ=0.):\n",
    "    \"\"\"\n",
    "    `img` is the output of the hough_lines(), An image with lines drawn on it.\n",
    "    Should be a blank image (all black) with lines drawn on it.\n",
    "    \n",
    "    `initial_img` should be the image before any processing.\n",
    "    \n",
    "    The result image is computed as follows:\n",
    "    \n",
    "    initial_img * α + img * β + λ\n",
    "    NOTE: initial_img and img must be the same shape!\n",
    "    \"\"\"\n",
    "    return cv2.addWeighted(initial_img, α, img, β, λ)\n",
    "\n",
    "def draw_lines(img, lines, color=[255, 0, 0], thickness=10):\n",
    "    \"\"\"\n",
    "    NOTE: this is the function you might want to use as a starting point once you want to \n",
    "    average/extrapolate the line segments you detect to map out the full\n",
    "    extent of the lane (going from the result shown in raw-lines-example.mp4\n",
    "    to that shown in P1_example.mp4).  \n",
    "    \n",
    "    Think about things like separating line segments by their \n",
    "    slope ((y2-y1)/(x2-x1)) to decide which segments are part of the left\n",
    "    line vs. the right line.  Then, you can average the position of each of \n",
    "    the lines and extrapolate to the top and bottom of the lane.\n",
    "    \n",
    "    This function draws `lines` with `color` and `thickness`.    \n",
    "    Lines are drawn on the image inplace (mutates the image).\n",
    "    If you want to make the lines semi-transparent, think about combining\n",
    "    this function with the weighted_img() function below\n",
    "    \"\"\"\n",
    "    global prev_m1\n",
    "    global prev_m2\n",
    "    global prev_c1\n",
    "    global prev_c2\n",
    "    slopes = []\n",
    "    i = 0\n",
    "    \n",
    "    \n",
    "    #lines = [[[199, 535, 355, 413]], [[175, 539, 414, 361]], [[743, 467, 862, 538]], [[769, 474, 806, 495]], [[290, 463, 462, 329]],\n",
    "    #         [[757, 466, 884, 539]], [[582, 370, 602, 382]], [[418, 360, 477, 313]], [[487, 315, 533, 340]], [[507, 324, 533, 338]],\n",
    "    #         [[545, 348, 568, 360]], [[585, 368, 607, 381]], [[175, 538, 374, 390]], [[454, 331, 468, 320]], [[424, 360, 459, 332]],\n",
    "    #         [[870, 530, 884, 538]], [[518, 334, 531, 340]], [[547, 346, 565, 357]], [[188, 490, 198, 484]], [[201, 534, 243, 502]],\n",
    "    #         [[389, 381, 420, 357]], [[264, 485, 282, 484]], [[832, 510, 868, 530]], [[259, 489, 282, 488]], [[743, 466, 865, 539]],\n",
    "    #         [[503, 324, 530, 340]], [[424, 356, 457, 330]], [[585, 373, 600, 382]], [[584, 368, 606, 380]], [[595, 375, 607, 382]],\n",
    "    #         [[417, 365, 437, 349]], [[436, 347, 448, 338]], [[510, 326, 533, 339]], [[477, 316, 489, 315]], [[229, 512, 287, 467]]]\n",
    "    \n",
    "    for line in lines:\n",
    "        for x1,y1,x2,y2 in line:\n",
    "            m = (y2-y1)/(x2-x1)\n",
    "            c = y2 - m*x2\n",
    "            m = math.degrees(math.atan(m))\n",
    "            slopes.append([m,c,[x1,y1],[x2,y2]])\n",
    "            #cv2.line(img, (x1, y1), (x2, y2), color, thickness)\n",
    "            \n",
    "    slopes = sorted(slopes)\n",
    "    \n",
    "    #print(\"length of slopes = \",len(slopes))\n",
    "    \n",
    "    breakpoints = []\n",
    "    f = 1\n",
    "    avgslope = 0\n",
    "    avgintercept = 0\n",
    "    prevBreakpoint = 0\n",
    "    for i in range(len(slopes)):\n",
    "        if i > 0:\n",
    "            if (slopes[i][0]-slopes[i-1][0])>5:\n",
    "                breakpoints.append([prevBreakpoint, i-1, avgslope/f, avgintercept/f, f])\n",
    "                prevBreakpoint = i\n",
    "                avgslope = slopes[i][0]\n",
    "                avgintercept = slopes[i][1]\n",
    "                f = 1\n",
    "            \n",
    "            elif i == len(slopes)-1:\n",
    "                f = f + 1\n",
    "                avgslope = (slopes[i][0]+avgslope)/f\n",
    "                avgintercept = (slopes[i][1]+avgintercept)/f\n",
    "                breakpoints.append([prevBreakpoint, i, avgslope, avgintercept, f])\n",
    "                \n",
    "            else:\n",
    "                avgslope = avgslope + slopes[i-1][0]\n",
    "                avgintercept = avgintercept + slopes[i-1][1]\n",
    "                f = f + 1\n",
    "        else:\n",
    "            avgslope = avgslope + slopes[i-1][0]\n",
    "            avgintercept = avgintercept + slopes[i-1][1]\n",
    "    \n",
    "    breakpoints = sorted(breakpoints, key=lambda breakpoints: breakpoints[4], reverse=True)\n",
    "    #print(breakpoints)\n",
    "    \n",
    "    ##########################################################################################\n",
    "                                        #FOR RANSAC\n",
    "    points1 = []\n",
    "    points2 = []\n",
    "    \n",
    "    for i in range(breakpoints[0][0], breakpoints[0][1]):\n",
    "        points1.append(slopes[i][2])\n",
    "        points1.append(slopes[i][3])\n",
    "        \n",
    "    for i in range(breakpoints[1][0], breakpoints[1][1]):\n",
    "        points2.append(slopes[i][2])\n",
    "        points2.append(slopes[i][3])\n",
    "        \n",
    "    #if len(breakpoints)<2:\n",
    "    #    #do nothing\n",
    "    #    lalala = 0\n",
    "    #else:\n",
    "    #    for i in range(breakpoints[0][0], breakpoints[0][1]):\n",
    "    #        points1.append(slopes[i][2])\n",
    "    #        points1.append(slopes[i][3])\n",
    "    #    for i in range(breakpoints[1][0], breakpoints[1][1]):\n",
    "    #        points2.append(slopes[i][2])\n",
    "    #        points2.append(slopes[i][3])\n",
    "        \n",
    "    if len(points1)<2:\n",
    "        model_m1 = prev_m1\n",
    "        model_c1 = prev_c1\n",
    "    else:\n",
    "        [model_m1, model_c1] = ransac_points(points1)\n",
    "    \n",
    "    if len(points2) < 2:\n",
    "        model_m2 = prev_m2\n",
    "        model_c2 = prev_c2\n",
    "    else:\n",
    "        [model_m2, model_c2] = ransac_points(points2)\n",
    "    \n",
    "    ##########################################################################################\n",
    "    \n",
    "    xmax = img.shape[1]#960\n",
    "    ymax = img.shape[0]#540\n",
    "    \n",
    "    #theta1 = breakpoints[0][2]\n",
    "    #theta2 = breakpoints[1][2]\n",
    "    #theta1 = math.radians(theta1)\n",
    "    #theta2 = math.radians(theta2)\n",
    "        \n",
    "    #m1 = math.tan(theta1)\n",
    "    #m2 = math.tan(theta2)\n",
    "    #c1 = breakpoints[0][3]\n",
    "    #c2 = breakpoints[1][3]\n",
    "    \n",
    "    m1 = model_m1\n",
    "    m2 = model_m2\n",
    "    c1 = model_c1\n",
    "    c2 = model_c2\n",
    "       \n",
    "    prev_m1 = m1\n",
    "    prev_m2 = m2\n",
    "    prev_c1 = c1\n",
    "    prev_c2 = c2\n",
    "    \n",
    "    if m1 == 0:\n",
    "        m1 = 0.00001\n",
    "    if m2 == 0:\n",
    "        m2 = 0.00001\n",
    "    \n",
    "    x = (-1*(c2-c1)/(m2-m1))\n",
    "    y = (m1*x)+c1\n",
    "    \n",
    "    ############################################################################\n",
    "                            #GETTING POINTS TO DRAW\n",
    "    \n",
    "    x1 = ((ymax-c1)/m1)\n",
    "    y1 = ymax\n",
    "    x2 = ((ymax-c2)/m2)\n",
    "    y2 = ymax\n",
    "    \n",
    "    #if ((0<=x<=xmax)and(0<=y<=ymax)):\n",
    "    #    #Get other two points\n",
    "    #    if(0<=((ymax-c1)/m1)<=xmax):\n",
    "    #        x1 = ((ymax-c1)/m1)\n",
    "    #        y1 = ymax\n",
    "    #    if(0<=((ymax-c2)/m2)<=xmax):\n",
    "    #        x2 = ((ymax-c2)/m2)\n",
    "    #        y2 = ymax\n",
    "    \n",
    "    x = int(x)\n",
    "    y = int(y)\n",
    "    x1 = int(x1)\n",
    "    y1 = int(y1)\n",
    "    x2 = int(((ymax-c2)/m2))\n",
    "    y2 = int(ymax)\n",
    "    \n",
    "    width = 40\n",
    "    x3 = x - width/2\n",
    "    x4 = x + width/2\n",
    "    \n",
    "    if x3<x4 and x1<x2 :\n",
    "        y3 = int(m1*x3 + c1)\n",
    "        y4 = int(m2*x4 + c2)\n",
    "        x3 = int(x3)\n",
    "        x4 = int(x4)\n",
    "        cv2.line(img, (x3, y3), (x1, y1), color, thickness)\n",
    "        cv2.line(img, (x4, y4), (x2, y2), color, thickness)\n",
    "    else:\n",
    "        y3 = int(m2*x3 + c2)\n",
    "        y4 = int(m1*x4 + c1)\n",
    "        x3 = int(x3)\n",
    "        x4 = int(x4)\n",
    "        cv2.line(img, (x4, y4), (x1, y1), color, thickness)\n",
    "        cv2.line(img, (x3, y3), (x2, y2), color, thickness)\n",
    "    #print(\"x = \",x,\" y = \",y,\" x1 = \",x1,\" y1 = \",y1,\" x2 = \",x2,\" y2 = \",y2)"
   ]
  },
  {
   "cell_type": "markdown",
   "metadata": {},
   "source": [
    "## RANSAC Implementation"
   ]
  },
  {
   "cell_type": "code",
   "execution_count": 24,
   "metadata": {
    "collapsed": true
   },
   "outputs": [],
   "source": [
    "def find_line_model(points):\n",
    "    \"\"\" find a line model for the given points\n",
    "    :param points selected points for model fitting\n",
    "    :return line model\n",
    "    \"\"\"\n",
    " \n",
    "    # [WARNING] vertical and horizontal lines should be treated differently\n",
    "    #           here we just add some noise to avoid division by zero\n",
    " \n",
    "    # find a line model for these points\n",
    "    m = (points[1][1] - points[0][1]) / (points[1][0] - points[0][0] + sys.float_info.epsilon)  # slope (gradient) of the line\n",
    "    c = points[1][1] - m * points[1][0]                                     # y-intercept of the line\n",
    " \n",
    "    return m, c\n",
    "\n",
    "def find_intercept_point(m, c, x0, y0):\n",
    "    \"\"\" find an intercept point of the line model with\n",
    "        a normal from point (x0,y0) to it\n",
    "    :param m slope of the line model\n",
    "    :param c y-intercept of the line model\n",
    "    :param x0 point's x coordinate\n",
    "    :param y0 point's y coordinate\n",
    "    :return intercept point\n",
    "    \"\"\"\n",
    " \n",
    "    # intersection point with the model\n",
    "    x = (x0 + m*y0 - m*c)/(1 + m**2)\n",
    "    y = (m*x0 + (m**2)*y0 - (m**2)*c)/(1 + m**2) + c\n",
    " \n",
    "    return x, y\n",
    "    \n",
    "def ransac_points(points):\n",
    "    # Ransac parameters\n",
    "    ransac_iterations = 20  # number of iterations\n",
    "    ransac_threshold = 3    # threshold\n",
    "    ransac_ratio = 0.6      # ratio of inliers required to assert\n",
    "                            # that a model fits well to data\n",
    "    ratio = 0.\n",
    "    model_m = 0.\n",
    "    model_c = 0.\n",
    "    \n",
    "    n_samples = len(points) # number of input points\n",
    "    \n",
    "    if n_samples < 2:\n",
    "        print('number of points entered was below 2: no = ', n_samples)\n",
    "        \n",
    "    #data = points #np.hstack((x,y))\n",
    "    \n",
    "    # perform RANSAC iterations\n",
    "    for it in range(ransac_iterations):\n",
    "        \n",
    "        # pick up two random points\n",
    "        n = 2\n",
    "        \n",
    "        all_indices = list(range(len(points)))\n",
    "        random.shuffle(all_indices)\n",
    "        indices_1 = all_indices[:n]\n",
    "        indices_2 = all_indices[n:]\n",
    "        \n",
    "        test_points = []\n",
    "        #print(indices_1)\n",
    "        maybe_points = [points[indices_1[0]], points[indices_1[1]]]   #[points[indices_1[0]][:], points[indices_1[1]][:]]\n",
    "        for i in indices_2:\n",
    "            test_points.append(points[i])\n",
    "        \n",
    "        # find a line model for these points\n",
    "        m, c = find_line_model(maybe_points)\n",
    " \n",
    "        x_list = []\n",
    "        y_list = []\n",
    "        num = 0\n",
    " \n",
    "        # find orthogonal lines to the model for all testing points\n",
    "        for ind in range(len(test_points)):\n",
    " \n",
    "            x0 = test_points[ind][0]\n",
    "            y0 = test_points[ind][1]\n",
    " \n",
    "            # find an intercept point of the model with a normal from point (x0,y0)\n",
    "            x1, y1 = find_intercept_point(m, c, x0, y0)\n",
    " \n",
    "            # distance from point to the model\n",
    "            dist = math.sqrt((x1 - x0)**2 + (y1 - y0)**2)\n",
    " \n",
    "            # check whether it's an inlier or not\n",
    "            if dist < ransac_threshold:\n",
    "                x_list.append(x0)\n",
    "                y_list.append(y0)\n",
    "                num += 1\n",
    " \n",
    "        x_inliers = np.array(x_list)\n",
    "        y_inliers = np.array(y_list)\n",
    "        \n",
    "        # in case a new model is better - cache it\n",
    "        if num/float(n_samples) > ratio:\n",
    "            ratio = num/float(n_samples)\n",
    "            model_m = m\n",
    "            model_c = c\n",
    " \n",
    "        # print ('  inlier ratio = ', num/float(n_samples))\n",
    "        # print ('  model_m = ', model_m)\n",
    "        # print ('  model_c = ', model_c)\n",
    "        # we are done in case we have enough inliers\n",
    "        if num > n_samples*ransac_ratio:\n",
    "            break\n",
    "            #print ('The model is found !')\n",
    "            #it still doesn't break here!!!??? Whyyyy???\n",
    "            \n",
    "    return [model_m, model_c]"
   ]
  },
  {
   "cell_type": "markdown",
   "metadata": {},
   "source": [
    "## Test on Images\n",
    "\n",
    "Now you should build your pipeline to work on the images in the directory \"test_images\"  \n",
    "**You should make sure your pipeline works well on these images before you try the videos.**"
   ]
  },
  {
   "cell_type": "code",
   "execution_count": 25,
   "metadata": {
    "collapsed": false
   },
   "outputs": [
    {
     "data": {
      "text/plain": [
       "['solidWhiteCurve.jpg',\n",
       " 'solidWhiteRight.jpg',\n",
       " 'solidYellowCurve.jpg',\n",
       " 'solidYellowCurve2.jpg',\n",
       " 'solidYellowLeft.jpg',\n",
       " 'whiteCarLaneSwitch.jpg']"
      ]
     },
     "execution_count": 25,
     "metadata": {},
     "output_type": "execute_result"
    }
   ],
   "source": [
    "import os\n",
    "os.listdir(\"test_images/\")"
   ]
  },
  {
   "cell_type": "markdown",
   "metadata": {},
   "source": [
    "run your solution on all test_images and make copies into the test_images directory)."
   ]
  },
  {
   "cell_type": "code",
   "execution_count": 26,
   "metadata": {
    "collapsed": false
   },
   "outputs": [
    {
     "data": {
      "text/plain": [
       "<matplotlib.image.AxesImage at 0x2600ca4c588>"
      ]
     },
     "execution_count": 26,
     "metadata": {},
     "output_type": "execute_result"
    }
   ],
   "source": [
    "# TODO: Build your pipeline that will draw lane lines on the test_images\n",
    "# then save them to the test_images directory.\n",
    "\n",
    "#reading in an image\n",
    "image_original = mpimg.imread('test_images/whiteCarLaneSwitch.jpg')\n",
    "image = grayscale(image_original)\n",
    "\n",
    "#printing out some stats and plotting\n",
    "#print('This image is:', type(image), 'with dimesions:', image.shape)\n",
    "#plt.imshow(image, cmap='gray')  #plt.imshow(image)  # if you wanted to show a single color channel image called 'gray', for example, call as plt.imshow(gray, cmap='gray')\n",
    "\n",
    "#Apply Canny Edge Detection\n",
    "low_threshold = 200\n",
    "high_threshold = 255\n",
    "image_canny = canny(image, low_threshold, high_threshold)\n",
    "#plt.imshow(image_canny, cmap='gray')\n",
    "\n",
    "#Get a smaller area to process\n",
    "#vertices = np.array([[0, image.shape[1]-1], [image.shape[2]-1, image.shape[1]-1], [((image.shape[2]-1)/2), ((image.shape[1]-1)/2 - 10)]])\n",
    "ymax = image.shape[0]\n",
    "xmax = image.shape[1]\n",
    "\n",
    "xwidth = 10\n",
    "yoffset = 80\n",
    "\n",
    "vertices = np.array([[0, ymax],[xmax, ymax],[(xmax + xwidth)/2, (ymax + yoffset)/2],[(xmax - xwidth)/2, (ymax + yoffset)/2]])\n",
    "vertices = np.int32(vertices)\n",
    "image_region = region_of_interest(image_canny, vertices)\n",
    "#plt.imshow(image_region, cmap='gray')\n",
    "\n",
    "#Apply Hough Transform\n",
    "rho = 1\n",
    "theta = 0.01\n",
    "threshold = 10\n",
    "min_line_len = 10\n",
    "max_line_gap = 10\n",
    "image_hough = hough_lines(image_region, rho, theta, threshold, min_line_len, max_line_gap)\n",
    "\n",
    "image_processed = weighted_img(image_hough, image_original, α=0.8, β=1., λ=0.)\n",
    "\n",
    "#plt.imshow(image_hough)\n",
    "plt.imshow(image_processed)\n",
    "\n",
    "\n",
    "\n",
    "\n"
   ]
  },
  {
   "cell_type": "markdown",
   "metadata": {},
   "source": [
    "## Test on Videos\n",
    "\n",
    "You know what's cooler than drawing lanes over images? Drawing lanes over video!\n",
    "\n",
    "We can test our solution on two provided videos:\n",
    "\n",
    "`solidWhiteRight.mp4`\n",
    "\n",
    "`solidYellowLeft.mp4`"
   ]
  },
  {
   "cell_type": "code",
   "execution_count": 27,
   "metadata": {
    "collapsed": false
   },
   "outputs": [],
   "source": [
    "# Import everything needed to edit/save/watch video clips\n",
    "\n",
    "from moviepy.editor import VideoFileClip\n",
    "from IPython.display import HTML"
   ]
  },
  {
   "cell_type": "code",
   "execution_count": 28,
   "metadata": {
    "collapsed": true
   },
   "outputs": [],
   "source": [
    "def process_image(image):\n",
    "    # NOTE: The output you return should be a color image (3 channel) for processing video below\n",
    "    # TODO: put your pipeline here,\n",
    "    # you should return the final output (image with lines are drawn on lanes)\n",
    "    prev_m1 = 0\n",
    "    prev_m2 = 0\n",
    "    prev_c1 = 0\n",
    "    prev_c2 = 0\n",
    "    \n",
    "    image_original = image\n",
    "    image = grayscale(image)\n",
    "\n",
    "    #printing out some stats and plotting\n",
    "    #print('This image is:', type(image), 'with dimesions:', image.shape)\n",
    "    #plt.imshow(image, cmap='gray')  #plt.imshow(image)  # if you wanted to show a single color channel image called 'gray', for example, call as plt.imshow(gray, cmap='gray')\n",
    "\n",
    "    #Apply Canny Edge Detection\n",
    "    low_threshold = 200\n",
    "    high_threshold = 255\n",
    "    image_canny = canny(image, low_threshold, high_threshold)\n",
    "    #plt.imshow(image_canny, cmap='gray')\n",
    "\n",
    "    #Get a smaller area to process\n",
    "    #vertices = np.array([[0, image.shape[1]-1], [image.shape[2]-1, image.shape[1]-1], [((image.shape[2]-1)/2), ((image.shape[1]-1)/2 - 10)]])\n",
    "    ymax = image.shape[0]\n",
    "    xmax = image.shape[1]\n",
    "\n",
    "    xwidth = 10\n",
    "    yoffset = 80\n",
    "    loweryCut = int(0.1*ymax)\n",
    "    lowerxCut = int(0.1*xmax)\n",
    "\n",
    "    vertices = np.array([[lowerxCut, ymax-loweryCut],[xmax-lowerxCut, ymax-loweryCut],[(xmax + xwidth)/2, (ymax + yoffset)/2],[(xmax - xwidth)/2, (ymax + yoffset)/2]])\n",
    "    vertices = np.int32(vertices)\n",
    "    image_region = region_of_interest(image_canny, vertices)\n",
    "    #plt.imshow(image_region, cmap='gray')\n",
    "\n",
    "    #Apply Hough Transform\n",
    "    rho = 1\n",
    "    theta = 0.01\n",
    "    threshold = 10\n",
    "    min_line_len = 10\n",
    "    max_line_gap = 10\n",
    "    image_hough = hough_lines(image_region, rho, theta, threshold, min_line_len, max_line_gap)\n",
    "    \n",
    "    image_processed = weighted_img(image_hough, image_original, α=0.8, β=1., λ=0.)\n",
    "    result = image_processed\n",
    "    return result"
   ]
  },
  {
   "cell_type": "markdown",
   "metadata": {},
   "source": [
    "Let's try the one with the solid white lane on the right first ..."
   ]
  },
  {
   "cell_type": "code",
   "execution_count": 9,
   "metadata": {
    "collapsed": false,
    "scrolled": false
   },
   "outputs": [
    {
     "name": "stdout",
     "output_type": "stream",
     "text": [
      "[MoviePy] >>>> Building video white.mp4\n",
      "[MoviePy] Writing video white.mp4\n"
     ]
    },
    {
     "name": "stderr",
     "output_type": "stream",
     "text": [
      "100%|███████████████████████████████████████████████████████████████▋| 221/222 [00:04<00:00, 50.03it/s]\n"
     ]
    },
    {
     "name": "stdout",
     "output_type": "stream",
     "text": [
      "[MoviePy] Done.\n",
      "[MoviePy] >>>> Video ready: white.mp4 \n",
      "\n",
      "Wall time: 4.93 s\n"
     ]
    }
   ],
   "source": [
    "white_output = 'white.mp4'\n",
    "clip1 = VideoFileClip(\"solidWhiteRight.mp4\")\n",
    "white_clip = clip1.fl_image(process_image) #NOTE: this function expects color images!!\n",
    "%time white_clip.write_videofile(white_output, audio=False)"
   ]
  },
  {
   "cell_type": "markdown",
   "metadata": {},
   "source": [
    "Play the video inline, or if you prefer find the video in your filesystem (should be in the same directory) and play it in your video player of choice."
   ]
  },
  {
   "cell_type": "code",
   "execution_count": 10,
   "metadata": {
    "collapsed": false
   },
   "outputs": [
    {
     "data": {
      "text/html": [
       "\n",
       "<video width=\"960\" height=\"540\" controls>\n",
       "  <source src=\"white.mp4\">\n",
       "</video>\n"
      ],
      "text/plain": [
       "<IPython.core.display.HTML object>"
      ]
     },
     "execution_count": 10,
     "metadata": {},
     "output_type": "execute_result"
    }
   ],
   "source": [
    "HTML(\"\"\"\n",
    "<video width=\"960\" height=\"540\" controls>\n",
    "  <source src=\"{0}\">\n",
    "</video>\n",
    "\"\"\".format(white_output))"
   ]
  },
  {
   "cell_type": "markdown",
   "metadata": {},
   "source": [
    "**At this point, if you were successful you probably have the Hough line segments drawn onto the road, but what about identifying the full extent of the lane and marking it clearly as in the example video (P1_example.mp4)?  Think about defining a line to run the full length of the visible lane based on the line segments you identified with the Hough Transform.  Modify your draw_lines function accordingly and try re-running your pipeline.**"
   ]
  },
  {
   "cell_type": "markdown",
   "metadata": {},
   "source": [
    "Now for the one with the solid yellow lane on the left. This one's more tricky!"
   ]
  },
  {
   "cell_type": "code",
   "execution_count": 11,
   "metadata": {
    "collapsed": false
   },
   "outputs": [
    {
     "name": "stdout",
     "output_type": "stream",
     "text": [
      "[MoviePy] >>>> Building video yellow.mp4\n",
      "[MoviePy] Writing video yellow.mp4\n"
     ]
    },
    {
     "name": "stderr",
     "output_type": "stream",
     "text": [
      "100%|███████████████████████████████████████████████████████████████▉| 681/682 [00:13<00:00, 60.63it/s]\n"
     ]
    },
    {
     "name": "stdout",
     "output_type": "stream",
     "text": [
      "[MoviePy] Done.\n",
      "[MoviePy] >>>> Video ready: yellow.mp4 \n",
      "\n",
      "Wall time: 13.4 s\n"
     ]
    }
   ],
   "source": [
    "yellow_output = 'yellow.mp4'\n",
    "clip2 = VideoFileClip('solidYellowLeft.mp4')\n",
    "yellow_clip = clip2.fl_image(process_image)\n",
    "%time yellow_clip.write_videofile(yellow_output, audio=False)"
   ]
  },
  {
   "cell_type": "code",
   "execution_count": 12,
   "metadata": {
    "collapsed": false
   },
   "outputs": [
    {
     "data": {
      "text/html": [
       "\n",
       "<video width=\"960\" height=\"540\" controls>\n",
       "  <source src=\"yellow.mp4\">\n",
       "</video>\n"
      ],
      "text/plain": [
       "<IPython.core.display.HTML object>"
      ]
     },
     "execution_count": 12,
     "metadata": {},
     "output_type": "execute_result"
    }
   ],
   "source": [
    "HTML(\"\"\"\n",
    "<video width=\"960\" height=\"540\" controls>\n",
    "  <source src=\"{0}\">\n",
    "</video>\n",
    "\"\"\".format(yellow_output))"
   ]
  },
  {
   "cell_type": "markdown",
   "metadata": {},
   "source": [
    "## Reflections\n",
    "\n",
    "Congratulations on finding the lane lines!  As the final step in this project, we would like you to share your thoughts on your lane finding pipeline... specifically, how could you imagine making your algorithm better / more robust?  Where will your current algorithm be likely to fail?\n",
    "\n",
    "Please add your thoughts below,  and if you're up for making your pipeline more robust, be sure to scroll down and check out the optional challenge video below!\n",
    "\n",
    "I strongly believe RANSAC is a good method to be used in this scenario because it detects the inliers. However, as my yellow_output video shows, there are still some improper detections. I believe I can remove these by using a moving average filter on the slopes and intercepts for solving it on a basic level. However, an even better option would be to implement a kalman estimator for detecting where the lane should be next, if we observe a significant difference in the estimate and the frame then we can conclude that the frame is bad and take the value of the estimate to overlay the lanes on the image.\n",
    "I tried my current code without the filter or estimator and it DOES NOT give good results. However, I strongly believe that the estimator will eliminate the lines from the shadows and the sides of the video and give a nice and smooth result.\n"
   ]
  },
  {
   "cell_type": "markdown",
   "metadata": {},
   "source": [
    "## Submission\n",
    "\n",
    "If you're satisfied with your video outputs it's time to submit!  Submit this ipython notebook for review.\n"
   ]
  },
  {
   "cell_type": "markdown",
   "metadata": {
    "collapsed": true
   },
   "source": [
    "## Optional Challenge\n",
    "\n",
    "Try your lane finding pipeline on the video below.  Does it still work?  Can you figure out a way to make it more robust?  If you're up for the challenge, modify your pipeline so it works with this video and submit it along with the rest of your project!"
   ]
  },
  {
   "cell_type": "code",
   "execution_count": 13,
   "metadata": {
    "collapsed": false
   },
   "outputs": [
    {
     "name": "stdout",
     "output_type": "stream",
     "text": [
      "[MoviePy] >>>> Building video extra.mp4\n",
      "[MoviePy] Writing video extra.mp4\n"
     ]
    },
    {
     "name": "stderr",
     "output_type": "stream",
     "text": [
      "100%|████████████████████████████████████████████████████████████████| 251/251 [00:11<00:00, 21.56it/s]\n"
     ]
    },
    {
     "name": "stdout",
     "output_type": "stream",
     "text": [
      "[MoviePy] Done.\n",
      "[MoviePy] >>>> Video ready: extra.mp4 \n",
      "\n",
      "Wall time: 12.5 s\n"
     ]
    }
   ],
   "source": [
    "challenge_output = 'extra.mp4'\n",
    "clip2 = VideoFileClip('challenge.mp4')\n",
    "challenge_clip = clip2.fl_image(process_image)\n",
    "%time challenge_clip.write_videofile(challenge_output, audio=False)"
   ]
  },
  {
   "cell_type": "code",
   "execution_count": 14,
   "metadata": {
    "collapsed": false
   },
   "outputs": [
    {
     "data": {
      "text/html": [
       "\n",
       "<video width=\"960\" height=\"540\" controls>\n",
       "  <source src=\"extra.mp4\">\n",
       "</video>\n"
      ],
      "text/plain": [
       "<IPython.core.display.HTML object>"
      ]
     },
     "execution_count": 14,
     "metadata": {},
     "output_type": "execute_result"
    }
   ],
   "source": [
    "HTML(\"\"\"\n",
    "<video width=\"960\" height=\"540\" controls>\n",
    "  <source src=\"{0}\">\n",
    "</video>\n",
    "\"\"\".format(challenge_output))"
   ]
  },
  {
   "cell_type": "code",
   "execution_count": null,
   "metadata": {
    "collapsed": true
   },
   "outputs": [],
   "source": []
  }
 ],
 "metadata": {
  "anaconda-cloud": {},
  "kernelspec": {
   "display_name": "Python 3",
   "language": "python",
   "name": "python3"
  },
  "language_info": {
   "codemirror_mode": {
    "name": "ipython",
    "version": 3
   },
   "file_extension": ".py",
   "mimetype": "text/x-python",
   "name": "python",
   "nbconvert_exporter": "python",
   "pygments_lexer": "ipython3",
   "version": "3.5.2"
  }
 },
 "nbformat": 4,
 "nbformat_minor": 0
}
